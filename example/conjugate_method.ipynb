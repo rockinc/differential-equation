{
 "cells": [
  {
   "cell_type": "markdown",
   "metadata": {},
   "source": [
    "# 共役法により連立方程式を解いてみよう\n",
    "\n",
    "次の連立方程式\n",
    "\\begin{eqnarray}\n",
    "    Ax = b\n",
    "\\end{eqnarray}\n",
    "を解くことを考える．$A$に対して互いに共役なベクトルの集合$\\left\\{p_i\\right\\} $i.e.$ p_i^TAp_j=0 ~ (\\mathrm{for} ~ i\\neq j)$であるとする．$\\alpha_k$を計算することで解を求めるのが共役法である．\n",
    "\\begin{eqnarray}\n",
    "    x = \\sum_{k=1}^{N} \\alpha_k p_k\n",
    "\\end{eqnarray}\n",
    "\n",
    "## $\\alpha_i$の計算の仕方\n",
    "$\\alpha_i$は次のようにして計算することができる．\n",
    "\\begin{eqnarray}\n",
    "    p_i^T Ax =&& p_i^T \\sum_{k=1}^{N} \\alpha_k A p_k = \\alpha_i p_i^T A p_i\\\\\n",
    "    =&& p_i^T b\\\\\n",
    "    \\therefore \\alpha_i = \\frac{p_i^T b}{p_i^T A p_i}\n",
    "\\end{eqnarray}\n",
    "\n",
    "## $p_i$の準備の仕方\n",
    "* $A$の固有ベクトル\n",
    "\n",
    "## 計算コスト\n",
    "$A$の固有ベクトルを計算する際に$O(N^3)$が必要である．また$\\alpha_i$を$1,..,N$計算する際にも$0(N^3)$の計算コストを要する．\n",
    "よってアルゴリズムトータルではガウスの消去法(掃出し法)と計算コストは変わらない．\n",
    "一方で，ある行列に対して$p_i$と$\\alpha_i$の分母部分$p_i^T A p_i$を予め残しておくことで，$O(N^2)$の計算コストで計算が可能である．"
   ]
  },
  {
   "cell_type": "code",
   "execution_count": 1,
   "metadata": {},
   "outputs": [],
   "source": [
    "import numpy as np"
   ]
  },
  {
   "cell_type": "code",
   "execution_count": 2,
   "metadata": {},
   "outputs": [],
   "source": [
    "def conjugate(mat_A,vec_b):\n",
    "    \"\"\"\n",
    "    Input:\n",
    "        mat_A: `np.ndarray` symmetry matrix\n",
    "        vec_B: `np.ndarray` vector\n",
    "    Output: solution of simultaneous linear equation $Ax = b$.\n",
    "    \"\"\"\n",
    "    if np.array_equal(mat_A,mat_A.T):\n",
    "        vec_x = np.zeros(len(vec_b))\n",
    "        val,vec = np.linalg.eig(mat_A)\n",
    "        vec = vec.T\n",
    "        for v in vec:\n",
    "            alpha = (v@vec_b)/(v@mat_A@v)\n",
    "            vec_x += alpha*v\n",
    "    else:\n",
    "        raise(NotImplementedError)\n",
    "    return vec_x"
   ]
  },
  {
   "cell_type": "code",
   "execution_count": 4,
   "metadata": {},
   "outputs": [
    {
     "name": "stdout",
     "output_type": "stream",
     "text": [
      "Exact: [-1.          1.33333333]\n",
      "Conjugate: [-1.          1.33333333]\n",
      "Exact: [-2.  -1.5  4.5]\n",
      "Conjugate: [-2.  -1.5  4.5]\n"
     ]
    }
   ],
   "source": [
    "A1 = np.array([[2,3],[3,3]])\n",
    "A2 = np.array([[2,5,3],[5,3,3],[3,3,3]])\n",
    "b1 = np.array([2,1])\n",
    "b2 = np.array([2,-1,3])\n",
    "\n",
    "print(f\"Exact: {np.linalg.inv(A1) @ b1}\")\n",
    "print(f\"Conjugate: {conjugate(mat_A=A1,vec_b=b1)}\")\n",
    "\n",
    "print(f\"Exact: {np.linalg.inv(A2) @ b2}\")\n",
    "print(f\"Conjugate: {conjugate(mat_A=A2,vec_b=b2)}\")"
   ]
  },
  {
   "cell_type": "code",
   "execution_count": null,
   "metadata": {},
   "outputs": [],
   "source": []
  }
 ],
 "metadata": {
  "kernelspec": {
   "display_name": "Python 3",
   "language": "python",
   "name": "python3"
  },
  "language_info": {
   "codemirror_mode": {
    "name": "ipython",
    "version": 3
   },
   "file_extension": ".py",
   "mimetype": "text/x-python",
   "name": "python",
   "nbconvert_exporter": "python",
   "pygments_lexer": "ipython3",
   "version": "3.7.4"
  }
 },
 "nbformat": 4,
 "nbformat_minor": 4
}