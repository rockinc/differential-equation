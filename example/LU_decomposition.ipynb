{
 "cells": [
  {
   "cell_type": "markdown",
   "metadata": {},
   "source": [
    "# LU分解をしてみよう\n",
    "\n",
    "LU分解とは，行列を下三角行列(L)上三角行列(U)の積に分解すること．\n",
    "LU分解を用いることで連立方程式を計算コスト低く計算することができる．\n",
    "\\begin{eqnarray}\n",
    "    Ax = LUx = b\n",
    "\\end{eqnarray}\n",
    "\n",
    "まず，\n",
    "\\begin{eqnarray}\n",
    "    Ly = b ~~ (Ux=y)\\\\\n",
    "\\end{eqnarray}\n",
    "で$y$を計算する．その後，\n",
    "\\begin{eqnarray}\n",
    "    Ux = y\n",
    "\\end{eqnarray}\n",
    "により，解$x$を計算する．\n",
    "\n",
    "## $L,U$の成分の計算の仕方\n",
    "LU分解をすると，元々の行列の$n^2$個の係数から$L,U$の$n(n+1)$個の係数を求めることになるので，LU分解は一意に定まらない．そのため，$L,U$の係数のうち$n$個を固定して，他の$L,U$の係数を計算する．$U$か$L$の対角成分を1にすると計算がしやすく，通常はその方法を使って計算する．\n",
    "(ここでは$L$の対角成分を1とおく．)\n",
    "\n",
    "\\begin{eqnarray}\n",
    "    U_{ij} = (A_{ij} - \\sum_{k=0}^{i-1} L_{jk} U_{kj})/L_{ii}\\\\\n",
    "    L_{ij} = (A_{ij} - \\sum_{k=0}^{i-1} L_{jk} U_{kj})/U_{ii}\n",
    "\\end{eqnarray}\n",
    "\n",
    "$L_{ii}$は1であることが保証されているが，$U_{ii}$は0になる可能性がある．その場合は$L_{ij}$は任意の実数をとりうるので，1とおくことができる．\n",
    "\n",
    "## 計算コスト\n",
    "$\\sum_{k=0}^{i-1}$の計算($O(n)$)を$n^2$個の変数に対して行っているので，$O(n^3)$である．\n",
    "\n",
    "> UL分解もありそう？\n",
    "\n",
    "> 出力$b$が変わる度に，ガウスの消去法では三角行列化するための操作が必要であったが，\n",
    "> LU分解では一度$L,U$を求めてしまえばそのような操作がいらず，計算コスト$O(n^2)$で解を求めることができる．\n",
    "> アルゴリズムトータルではLU分解は$O(n^3)$となり，ガウスの消去法と変わらないことに注意．"
   ]
  },
  {
   "cell_type": "code",
   "execution_count": 1,
   "metadata": {},
   "outputs": [],
   "source": [
    "import numpy as np\n",
    "\n",
    "def LU_decompostion(matrix):\n",
    "    length = len(matrix)\n",
    "    L = np.eye(length)\n",
    "    U = np.zeros([length,length])\n",
    "    \n",
    "    for i in range(length):\n",
    "        for j in range(i,length):\n",
    "            sub = sum(L[i][k]*U[k][j] for k in range(i))\n",
    "            #print(i,j,sub,sub)\n",
    "            U[i][j] = (matrix[i][j]-sub) / L[i][i]\n",
    "        for j in range(i+1,length):\n",
    "            sub = sum(L[j][k]*U[k][i] for k in range(i))\n",
    "            #print(j,i,sub)\n",
    "            if U[i][i]!=0:\n",
    "                L[j][i] = (matrix[j][i]-sub) / U[i][i]\n",
    "            else:\n",
    "                L[j][i] = 1.0\n",
    "    return L,U"
   ]
  },
  {
   "cell_type": "markdown",
   "metadata": {},
   "source": [
    "## 具体的な行列でLU分解"
   ]
  },
  {
   "cell_type": "code",
   "execution_count": 2,
   "metadata": {},
   "outputs": [
    {
     "name": "stdout",
     "output_type": "stream",
     "text": [
      "det: 0.0\n",
      "[[ 1  2  3  4]\n",
      " [ 5  6  7  8]\n",
      " [ 9 10 11 12]\n",
      " [13 14 15 16]]\n",
      "[[ 1.  0.  0.  0.]\n",
      " [ 5.  1.  0.  0.]\n",
      " [ 9.  2.  1.  0.]\n",
      " [13.  3.  1.  1.]]\n",
      "[[  1.   2.   3.   4.]\n",
      " [  0.  -4.  -8. -12.]\n",
      " [  0.   0.   0.   0.]\n",
      " [  0.   0.   0.   0.]]\n"
     ]
    }
   ],
   "source": [
    "matrix = np.array([[1,2,3,4],[5,6,7,8],[9,10,11,12],[13,14,15,16]])\n",
    "#matrix = np.array([[1.2,2,3],[5,6,7],[9,10,11]])\n",
    "#matrix = np.array([[1,2],[3,6]])\n",
    "print(f\"det: {np.linalg.det(matrix)}\")\n",
    "L,U = LU_decompostion(matrix)\n",
    "\n",
    "print(matrix)\n",
    "print(L)\n",
    "print(U)"
   ]
  },
  {
   "cell_type": "code",
   "execution_count": 3,
   "metadata": {},
   "outputs": [
    {
     "data": {
      "text/plain": [
       "array([[ True,  True,  True,  True],\n",
       "       [ True,  True,  True,  True],\n",
       "       [ True,  True,  True,  True],\n",
       "       [ True,  True,  True,  True]])"
      ]
     },
     "execution_count": 3,
     "metadata": {},
     "output_type": "execute_result"
    }
   ],
   "source": [
    "L@U==matrix"
   ]
  },
  {
   "cell_type": "code",
   "execution_count": 4,
   "metadata": {},
   "outputs": [
    {
     "data": {
      "text/plain": [
       "array([[ 1.,  2.,  3.,  4.],\n",
       "       [ 5.,  6.,  7.,  8.],\n",
       "       [ 9., 10., 11., 12.],\n",
       "       [13., 14., 15., 16.]])"
      ]
     },
     "execution_count": 4,
     "metadata": {},
     "output_type": "execute_result"
    }
   ],
   "source": [
    "L@U"
   ]
  },
  {
   "cell_type": "code",
   "execution_count": null,
   "metadata": {},
   "outputs": [],
   "source": []
  }
 ],
 "metadata": {
  "kernelspec": {
   "display_name": "Python 3",
   "language": "python",
   "name": "python3"
  },
  "language_info": {
   "codemirror_mode": {
    "name": "ipython",
    "version": 3
   },
   "file_extension": ".py",
   "mimetype": "text/x-python",
   "name": "python",
   "nbconvert_exporter": "python",
   "pygments_lexer": "ipython3",
   "version": "3.7.4"
  }
 },
 "nbformat": 4,
 "nbformat_minor": 4
}