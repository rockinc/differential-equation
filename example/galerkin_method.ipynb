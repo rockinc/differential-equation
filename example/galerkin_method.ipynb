{
 "cells": [
  {
   "cell_type": "markdown",
   "metadata": {},
   "source": [
    "# ガラーキン法で微分方程式を解いてみよう\n",
    "\n",
    "以下の微分方程式を解いてみる．\n",
    "\\begin{eqnarray}\n",
    "    \\frac{d^2 y}{dx^2} + y + x = 0 ~~ (0 \\leq x \\leq 1)\n",
    "\\end{eqnarray}\n",
    "\n",
    "この厳密解は，\n",
    "\\begin{eqnarray}\n",
    "    y(x) = \\frac{\\sin x}{\\sin 1} -x\n",
    "\\end{eqnarray}\n",
    "である．実際に厳密解をもとに微分方程式に代入してみると，\n",
    "\\begin{eqnarray}\n",
    "    \\frac{d^2}{dx^2}\\left(\\frac{\\sin x}{\\sin 1} -x\\right) + \\frac{\\sin x}{\\sin 1} -x + x = 0\n",
    "\\end{eqnarray}\n",
    "である．\n",
    "\n",
    "\\begin{eqnarray}\n",
    "    y(0) = 0, ~~ y(1)=0\n",
    "\\end{eqnarray}\n",
    "\n",
    "\\begin{eqnarray}\n",
    "    y'(0) = \\frac{1}{\\sin 1}, ~~ y'(1)=\\cot(1)-1\n",
    "\\end{eqnarray}\n",
    "\n",
    "## ガラーキン法とは？\n",
    "ガラーキン法とは，残差関数と重み関数の基底が同一の重み付き残差法である．\n",
    "重み付き残差法とは，残差関数と重み関数の畳み込みが０になるような解を近似解として求める数値計算手法である．ガラーキン法以外にも，選点法はある点(選点)においてのみ解が微分方程式を満たすようにする方法で，重み関数はδ関数である．これは，ある区間で解が平均的に厳密解に近いということを表している．"
   ]
  },
  {
   "cell_type": "code",
   "execution_count": 1,
   "metadata": {},
   "outputs": [],
   "source": [
    "import numpy as np"
   ]
  },
  {
   "cell_type": "code",
   "execution_count": 3,
   "metadata": {},
   "outputs": [],
   "source": [
    "def exact_solution(x):\n",
    "    return np.sin(x)/np.sin(1)-x\n",
    "\n",
    "def differential(func,x,dx=0.001):\n",
    "    return (func(x+dx)-func(x-dx))/(2*dx)\n",
    "\n",
    "def second_differential(func,x,dx=0.001):\n",
    "    return (func(x+dx)-2*func(x)+func(x-dx))/(dx**2)\n",
    "\n",
    "def residual_function_u(func,x):\n",
    "    \"\"\"\n",
    "    part of the residual function which depends on trial solution\n",
    "    \"\"\"\n",
    "    return second_differential(func,x,dx=0.001)+func(x)\n",
    "\n",
    "def residual_function_n(func,x):\n",
    "    \"\"\"\n",
    "    part of the residual function which NOT depends on trial solution\n",
    "    \"\"\"\n",
    "    return x\n",
    "\n",
    "def simpson_integral(array,mode:int,x1:float,x2:float)->float:\n",
    "    dx = (x2-x1)/len(array)\n",
    "    area = 0\n",
    "    if mode==0:\n",
    "        area = np.sum(array)*dx\n",
    "    elif mode==1:\n",
    "        for i in range(len(array)-1):\n",
    "            area += (array[i]+array[i+1]) *dx/2\n",
    "    elif mode==2:\n",
    "        for i in range(len(array)-2):\n",
    "            area += (array[i]+4*array[i+1]*array[i+2]) *dx/6\n",
    "    else:\n",
    "        raise(NotImplementedError)\n",
    "    return area\n",
    "\n",
    "def inner_product(array1,array2,mode:int,x1:float,x2:float)->float:\n",
    "    if len(array1)!=len(array2):\n",
    "        raise(IndexError)\n",
    "    else:\n",
    "        array=array1*array2\n",
    "        return simpson_integral(array,mode,x1,x2)\n",
    "\n",
    "def basis0(x):\n",
    "    return x*(1-x)\n",
    "\n",
    "def basis1(x):\n",
    "    return x*(1-x)*x\n",
    "\n",
    "def func_array(func,x_array):\n",
    "    if type(x_array)!=numpy.ndarray:\n",
    "        raise(TypeError)\n",
    "    return func(x)"
   ]
  },
  {
   "cell_type": "code",
   "execution_count": 4,
   "metadata": {},
   "outputs": [
    {
     "name": "stdout",
     "output_type": "stream",
     "text": [
      "[0.         0.00019239 0.00038474 ... 0.00072415 0.00036261 0.        ]\n"
     ]
    }
   ],
   "source": [
    "x1,x2,dev=0,1,1001\n",
    "x_array = np.linspace(x1,x2,dev)\n",
    "\n",
    "#basis_array = [basis0(x),basis1(x)]\n",
    "basis = [basis0,basis1]\n",
    "\n",
    "def galerkin_coeff(basis:list,x_array):\n",
    "    N = len(basis)\n",
    "    matrix=[]\n",
    "    vec_b=[]\n",
    "    basis_array=[]\n",
    "    for vi in basis:\n",
    "        basis_array.append(vi(x_array))\n",
    "    for i in range(N):\n",
    "        rui_array = residual_function_u(basis[i],x_array)\n",
    "        for j in range(N):\n",
    "            inner_prod = inner_product(array1=rui_array,array2=basis_array[j],mode=1,x1=0,x2=1)\n",
    "            matrix.append(inner_prod)\n",
    "        rni_array = residual_function_n(basis_array[i],x_array)\n",
    "        inner_prod = inner_product(array1=rni_array,array2=basis_array[i],mode=1,x1=0,x2=1)\n",
    "        vec_b.append(inner_prod)\n",
    "    vec_b = np.array(vec_b)\n",
    "    matrix = np.array(matrix)\n",
    "    matrix = matrix.reshape([N,N])\n",
    "    return np.linalg.inv(matrix) @ vec_b *(-1)\n",
    "\n",
    "list_gc = galerkin_coeff(basis,x_array)\n",
    "\n",
    "def galerkin_solution(x_array,dev):\n",
    "    sol = np.array([0.0]*dev)\n",
    "    for i in range(len(basis)):\n",
    "        sol += list_gc[i]*basis[i](x_array)\n",
    "    return sol\n",
    "\n",
    "array_gc = galerkin_solution(x_array,dev)\n",
    "\n",
    "print (array_gc)"
   ]
  },
  {
   "cell_type": "code",
   "execution_count": 6,
   "metadata": {},
   "outputs": [
    {
     "data": {
      "image/png": "[encoded data removed]",
      "text/plain": [
       "<Figure size 432x288 with 1 Axes>"
      ]
     },
     "metadata": {
      "needs_background": "light"
     },
     "output_type": "display_data"
    }
   ],
   "source": [
    "import matplotlib.pyplot as plt\n",
    "import numpy as np\n",
    "\n",
    "x=np.linspace(0,1,dev)\n",
    "y1=exact_solution(x)\n",
    "y2=galerkin_solution(x_array,dev)\n",
    "plt.title('exaxt solution',size=18)\n",
    "plt.xlabel('x',size=16)\n",
    "plt.ylabel('y',size=16)\n",
    "plt.ylim([0,0.1])\n",
    "plt.plot(x,y1,color='black')\n",
    "plt.plot(x,y2,color='red')\n",
    "plt.show()"
   ]
  },
  {
   "cell_type": "code",
   "execution_count": null,
   "metadata": {},
   "outputs": [],
   "source": []
  }
 ],
 "metadata": {
  "kernelspec": {
   "display_name": "Python 3",
   "language": "python",
   "name": "python3"
  },
  "language_info": {
   "codemirror_mode": {
    "name": "ipython",
    "version": 3
   },
   "file_extension": ".py",
   "mimetype": "text/x-python",
   "name": "python",
   "nbconvert_exporter": "python",
   "pygments_lexer": "ipython3",
   "version": "3.7.4"
  }
 },
 "nbformat": 4,
 "nbformat_minor": 4
}
